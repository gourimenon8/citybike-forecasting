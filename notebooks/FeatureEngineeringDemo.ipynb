{
 "cells": [
  {
   "cell_type": "markdown",
   "metadata": {},
   "source": [
    "# 🔧 Feature Engineering Demo\n",
    "\n",
    "Show how to load raw months, aggregate, and push to Hopsworks.\n"
   ]
  },
  {
   "cell_type": "code",
   "execution_count": null,
   "metadata": {
    "vscode": {
     "languageId": "plaintext"
    }
   },
   "outputs": [],
   "source": [
    "import pandas as pd\n",
    "from src.data_engineering import load_months_data, aggregate_top_stations\n",
    "\n",
    "# Example: load Jan–Apr 2024 locally\n",
    "months = [\"202401\",\"202402\",\"202403\",\"202404\"]\n",
    "df_raw = load_months_data(months)\n",
    "agg_df = aggregate_top_stations(df_raw, top_n=3)\n",
    "\n",
    "agg_df.head()\n"
   ]
  },
  {
   "cell_type": "code",
   "execution_count": null,
   "metadata": {
    "vscode": {
     "languageId": "plaintext"
    }
   },
   "outputs": [],
   "source": [
    "# Write to Hopsworks feature group\n",
    "import hopsworks\n",
    "project = hopsworks.login()\n",
    "fs = project.get_feature_store()\n",
    "fg = fs.get_feature_group(\"citibike_daily_rides\", version=1)\n",
    "fg.insert(agg_df, write_options={\"wait_for_job\": True})\n",
    "\n",
    "print(\"✅ Aggregated data uploaded to Hopsworks\")\n"
   ]
  }
 ],
 "metadata": {
  "language_info": {
   "name": "python"
  }
 },
 "nbformat": 4,
 "nbformat_minor": 2
}
