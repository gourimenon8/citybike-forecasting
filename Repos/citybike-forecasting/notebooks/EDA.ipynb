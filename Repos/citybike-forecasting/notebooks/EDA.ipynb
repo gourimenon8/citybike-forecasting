{
 "cells": [
  {
   "cell_type": "markdown",
   "metadata": {},
   "source": [
    "# 🚲 Citi Bike Data EDA\n",
    "\n",
    "Explore the aggregated daily rides for your top stations.\n"
   ]
  },
  {
   "cell_type": "code",
   "execution_count": null,
   "metadata": {
    "vscode": {
     "languageId": "plaintext"
    }
   },
   "outputs": [],
   "source": [
    "import pandas as pd\n",
    "import hopsworks\n",
    "import matplotlib.pyplot as plt\n",
    "\n",
    "# Load aggregated data from Hopsworks\n",
    "project = hopsworks.login()\n",
    "fs = project.get_feature_store()\n",
    "fg = fs.get_feature_group(\"citibike_daily_rides\", version=1)\n",
    "agg_df = fg.read()\n",
    "\n",
    "agg_df.head()\n"
   ]
  },
  {
   "cell_type": "code",
   "execution_count": null,
   "metadata": {
    "vscode": {
     "languageId": "plaintext"
    }
   },
   "outputs": [],
   "source": [
    "# Quick stats\n",
    "agg_df.describe()\n"
   ]
  },
  {
   "cell_type": "code",
   "execution_count": null,
   "metadata": {
    "vscode": {
     "languageId": "plaintext"
    }
   },
   "outputs": [],
   "source": [
    "# Pivot and plot\n",
    "pivoted = agg_df.pivot(index=\"date\", columns=\"start_station_name\", values=\"ride_count\")\n",
    "pivoted.index = pd.to_datetime(pivoted.index)\n",
    "pivoted.plot(figsize=(12,6), title=\"Daily Rides per Top Stations\")\n",
    "plt.ylabel(\"Ride Count\")\n",
    "plt.show()\n"
   ]
  }
 ],
 "metadata": {
  "language_info": {
   "name": "python"
  }
 },
 "nbformat": 4,
 "nbformat_minor": 2
}
